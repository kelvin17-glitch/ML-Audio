{
 "cells": [
  {
   "cell_type": "markdown",
   "id": "41bb0fd2-d5d4-4a9c-97d1-8a1483337ca9",
   "metadata": {},
   "source": [
    "<div style=\"text-align:center; font-size: 30px\">FEATURE AGGREGATION</div>"
   ]
  },
  {
   "cell_type": "code",
   "execution_count": 8,
   "id": "55799f28-45a2-4f7b-a136-0daa2fd8778d",
   "metadata": {},
   "outputs": [],
   "source": [
    "# Import libraries\n",
    "import numpy as np\n",
    "import pandas as pd\n",
    "\n",
    "from glob import glob\n",
    "\n",
    "import librosa\n",
    "import librosa.display\n",
    "import IPython.display as ipd\n",
    "from scipy.stats import skew, kurtosis"
   ]
  },
  {
   "cell_type": "code",
   "execution_count": 9,
   "id": "83fc655c-e74a-431a-81da-f26cbcd12803",
   "metadata": {},
   "outputs": [],
   "source": [
    "# Paths to variables\n",
    "blues_files = glob(\"../audio-ml/Data/genres_original/blues/blues.*.wav\")\n",
    "\n",
    "classical_files = glob(\"../audio-ml/Data/genres_original/classical/classical.*.wav\")\n",
    "\n",
    "country_files = glob(\"../audio-ml/Data/genres_original/country/country.*.wav\")\n",
    "\n",
    "disco_files = glob(\"../audio-ml/Data/genres_original/disco/disco.*.wav\")\n",
    "\n",
    "hiphop_files = glob(\"../audio-ml/Data/genres_original/hiphop/hiphop.*.wav\")\n",
    "\n",
    "jazz_files = glob(\"../audio-ml/Data/genres_original/jazz/jazz.*.wav\")\n",
    "\n",
    "metal_files = glob(\"../audio-ml/Data/genres_original/metal/metal.*.wav\")\n",
    "\n",
    "pop_files = glob(\"../audio-ml/Data/genres_original/pop/pop.*.wav\")\n",
    "\n",
    "reggae_files = glob(\"../audio-ml/Data/genres_original/reggae/reggae.*.wav\")\n",
    "\n",
    "rock_files = glob(\"../audio-ml/Data/genres_original/rock/rock.*.wav\")"
   ]
  },
  {
   "cell_type": "code",
   "execution_count": 13,
   "id": "75ff6e64-14a0-4981-9f44-418e88ac51f0",
   "metadata": {},
   "outputs": [],
   "source": [
    "# Feature extraction function\n",
    "def extract_features(audio_path):\n",
    "    # Load file\n",
    "    y, sr = librosa.load(audio_path)\n",
    "    \n",
    "    # Initialize feature dict\n",
    "    features = {}\n",
    "    \n",
    "    # Calculate RMS Energy and extract features\n",
    "    rms = librosa.feature.rms(y=y, frame_length=2048, hop_length=512)[0]\n",
    "    features[\"rms_mean\"] = np.mean(rms)\n",
    "    features[\"rms_std\"] = np.std(rms)\n",
    "    # features[\"rms_max\"] = np.max(rms)\n",
    "    # features[\"rms_min\"] = np.min(rms)\n",
    "    # features[\"rms_skew\"] = skew(rms)\n",
    "    # features[\"rms_kurtosis\"] = kurtosis(rms)\n",
    "    \n",
    "    # Calculate Zero Crossing Rate and extract features\n",
    "    zcr = librosa.feature.zero_crossing_rate(y=y, frame_length=2048, hop_length=512)[0]\n",
    "    features[\"zcr_mean\"] = np.mean(zcr)\n",
    "    features[\"zcr_std\"] = np.std(zcr)\n",
    "    # features[\"zcr_max\"] = np.max(zcr)\n",
    "    # features[\"zcr_min\"] = np.min(zcr)\n",
    "    # features[\"zcr_skew\"] = skew(zcr)\n",
    "    # features[\"zcr_kurtosis\"] = kurtosis(zcr)  \n",
    "    \n",
    "    # Calculate Spectral Centroids and extract features\n",
    "    centroids = librosa.feature.spectral_centroid(y=y, n_fft=2048, hop_length=512)[0]\n",
    "    features[\"centroid_mean\"] = np.mean(centroids)\n",
    "    features[\"centroid_std\"] = np.std(centroids)\n",
    "    # features[\"centroid_max\"] = np.max(centroid)\n",
    "    # features[\"centroid_min\"] = np.min(centroid)\n",
    "    # features[\"centroid_skew\"] = skew(centroid)\n",
    "    # features[\"centroid_kurtosis\"] = kurtosis(centroid)\n",
    "    \n",
    "    # Calculate Spectral Bandwidth and extract features\n",
    "    bandwidth = librosa.feature.spectral_bandwidth(y=y, n_fft=2048, hop_length=512)[0]\n",
    "    features[\"bandwidth_mean\"] = np.mean(bandwidth)\n",
    "    features[\"bandwidth_std\"] = np.std(bandwidth)\n",
    "    # features[\"bandwidth_max\"] = np.max(bandwidth)\n",
    "    # features[\"bandwidth_min\"] = np.min(bandwidth)\n",
    "    # features[\"bandwidth_skew\"] = skew(bandwidth)\n",
    "    # features[\"bandwidth_kurtosis\"] = kurtosis(bandwidth) \n",
    "    \n",
    "    # Calculate Spectral Contrast and extract features\n",
    "    contrast = librosa.feature.spectral_contrast(y=y, n_fft=2048, hop_length=512)\n",
    "    # For each band\n",
    "    for i, band in enumerate(contrast):\n",
    "        features[f\"contrast_band_{i}_mean\"] = np.mean(contrast)\n",
    "        features[f\"contrast_band_{i}_std\"] = np.std(contrast)\n",
    "        # features[f\"contrast_band_{i}_max\"] = np.max(contrast)\n",
    "        # features[f\"contrast_band_{i}_min\"] = np.min(contrast)\n",
    "        # features[f\"contrast_band_{i}_skew\"] = skew(contrast)\n",
    "        # features[f\"contrast_band_{i}_kurtosis\"] = kurtosis(contrast)  \n",
    "    \n",
    "    # Calculate Spectral Rolloff and extract features\n",
    "    rolloff = librosa.feature.spectral_rolloff(y=y, n_fft=2048, hop_length=512)[0]\n",
    "    features[\"rolloff_mean\"] = np.mean(rolloff)\n",
    "    features[\"rolloff_std\"] = np.std(rolloff)\n",
    "    # features[\"rolloff_max\"] = np.max(rolloff)\n",
    "    # features[\"rolloff_min\"] = np.min(rolloff)\n",
    "    # features[\"rolloff_skew\"] = skew(rolloff)\n",
    "    # features[\"rolloff_kurtosis\"] = kurtosis(rolloff)  \n",
    "\n",
    "    return features"
   ]
  },
  {
   "cell_type": "code",
   "execution_count": 14,
   "id": "fb407c74-6599-49a9-ac84-eb496f7bda16",
   "metadata": {},
   "outputs": [
    {
     "data": {
      "text/plain": [
       "{'rms_mean': np.float32(0.23100165),\n",
       " 'rms_std': np.float32(0.12734859),\n",
       " 'zcr_mean': np.float64(0.21382753589037123),\n",
       " 'zcr_std': np.float64(0.11607546270493543),\n",
       " 'centroid_mean': np.float64(4036.598130555536),\n",
       " 'centroid_std': np.float64(1137.4545236791337),\n",
       " 'bandwidth_mean': np.float64(3342.1673492869427),\n",
       " 'bandwidth_std': np.float64(329.3525059564205),\n",
       " 'contrast_band_0_mean': np.float64(17.22795361570953),\n",
       " 'contrast_band_0_std': np.float64(4.894318317534678),\n",
       " 'contrast_band_1_mean': np.float64(17.22795361570953),\n",
       " 'contrast_band_1_std': np.float64(4.894318317534678),\n",
       " 'contrast_band_2_mean': np.float64(17.22795361570953),\n",
       " 'contrast_band_2_std': np.float64(4.894318317534678),\n",
       " 'contrast_band_3_mean': np.float64(17.22795361570953),\n",
       " 'contrast_band_3_std': np.float64(4.894318317534678),\n",
       " 'contrast_band_4_mean': np.float64(17.22795361570953),\n",
       " 'contrast_band_4_std': np.float64(4.894318317534678),\n",
       " 'contrast_band_5_mean': np.float64(17.22795361570953),\n",
       " 'contrast_band_5_std': np.float64(4.894318317534678),\n",
       " 'contrast_band_6_mean': np.float64(17.22795361570953),\n",
       " 'contrast_band_6_std': np.float64(4.894318317534678),\n",
       " 'rolloff_mean': np.float64(8331.018094728828),\n",
       " 'rolloff_std': np.float64(1382.1660280744966)}"
      ]
     },
     "execution_count": 14,
     "metadata": {},
     "output_type": "execute_result"
    }
   ],
   "source": [
    "feat_pop = extract_features(pop_files[1])\n",
    "feat_pop"
   ]
  }
 ],
 "metadata": {
  "kernelspec": {
   "display_name": "Python 3 (ipykernel)",
   "language": "python",
   "name": "python3"
  },
  "language_info": {
   "codemirror_mode": {
    "name": "ipython",
    "version": 3
   },
   "file_extension": ".py",
   "mimetype": "text/x-python",
   "name": "python",
   "nbconvert_exporter": "python",
   "pygments_lexer": "ipython3",
   "version": "3.12.3"
  }
 },
 "nbformat": 4,
 "nbformat_minor": 5
}
